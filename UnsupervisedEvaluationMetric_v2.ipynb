{
  "nbformat": 4,
  "nbformat_minor": 0,
  "metadata": {
    "colab": {
      "name": "UnsupervisedEvaluationMetric_v2.ipynb",
      "provenance": [],
      "collapsed_sections": [],
      "include_colab_link": true
    },
    "kernelspec": {
      "name": "python3",
      "display_name": "Python 3"
    }
  },
  "cells": [
    {
      "cell_type": "markdown",
      "metadata": {
        "id": "view-in-github",
        "colab_type": "text"
      },
      "source": [
        "<a href=\"https://colab.research.google.com/github/UnimaginableDragon/A-Timer-in-Assembly/blob/master/UnsupervisedEvaluationMetric_v2.ipynb\" target=\"_parent\"><img src=\"https://colab.research.google.com/assets/colab-badge.svg\" alt=\"Open In Colab\"/></a>"
      ]
    },
    {
      "cell_type": "code",
      "metadata": {
        "id": "7UjbhJfILkvv",
        "outputId": "5923ddbf-586c-4b36-eaf5-f46b65e132c4",
        "colab": {
          "base_uri": "https://localhost:8080/",
          "height": 54
        }
      },
      "source": [
        "! pip install scipy"
      ],
      "execution_count": 51,
      "outputs": [
        {
          "output_type": "stream",
          "text": [
            "Requirement already satisfied: scipy in /usr/local/lib/python3.6/dist-packages (1.4.1)\n",
            "Requirement already satisfied: numpy>=1.13.3 in /usr/local/lib/python3.6/dist-packages (from scipy) (1.18.5)\n"
          ],
          "name": "stdout"
        }
      ]
    },
    {
      "cell_type": "markdown",
      "metadata": {
        "id": "tVA7V1hHHl2Z"
      },
      "source": [
        "Input: A dot file with cluster specified \\\\\n",
        "Output: 4- evaluation metric"
      ]
    },
    {
      "cell_type": "code",
      "metadata": {
        "id": "ahO4k1VmKBjw",
        "outputId": "02b9ce8d-622e-46f9-99d5-78dc619c2c8d",
        "colab": {
          "base_uri": "https://localhost:8080/",
          "height": 35
        }
      },
      "source": [
        "\n",
        "from google.colab import drive\n",
        "drive.mount('/content/gdrive')"
      ],
      "execution_count": 40,
      "outputs": [
        {
          "output_type": "stream",
          "text": [
            "Drive already mounted at /content/gdrive; to attempt to forcibly remount, call drive.mount(\"/content/gdrive\", force_remount=True).\n"
          ],
          "name": "stdout"
        }
      ]
    },
    {
      "cell_type": "code",
      "metadata": {
        "id": "oH4HjAxv1eY5"
      },
      "source": [
        "path = '/content/gdrive/My Drive/Data/data_topic/'"
      ],
      "execution_count": 41,
      "outputs": []
    },
    {
      "cell_type": "code",
      "metadata": {
        "id": "impa3lnEIWlF"
      },
      "source": [
        "import numpy as np\n",
        "import networkx as nx\n",
        "import scipy.sparse as sp"
      ],
      "execution_count": 42,
      "outputs": []
    },
    {
      "cell_type": "code",
      "metadata": {
        "id": "uTrM3xhF07rp"
      },
      "source": [
        "def load_dataset_dot(file_name='simple.dot'):\n",
        "    fpath = path+file_name\n",
        "    original_g = nx.Graph(nx.drawing.nx_pydot.read_dot(fpath))\n",
        "    g = original_g.copy()\n",
        "    #make the graph unweighted\n",
        "    N = len(g.nodes)\n",
        "    edges = list(g.edges)\n",
        "    g.remove_edges_from(edges)\n",
        "    g.add_edges_from(edges)\n",
        "    \n",
        "    # print(g.nodes)\n",
        "    # nx.draw_spring(g,with_labels= True)\n",
        "    A = nx.to_scipy_sparse_matrix(g,format='csr')\n",
        "    # A=sp.csr_matrix()\n",
        "    # print(A)\n",
        "    return A,N, original_g \n",
        "\n"
      ],
      "execution_count": 43,
      "outputs": []
    },
    {
      "cell_type": "code",
      "metadata": {
        "id": "exxNx29wX4kZ"
      },
      "source": [
        "def eliminate_symbol(g, s='\"'):\n",
        "\n",
        "    for n in g.nodes:\n",
        "        if(g.nodes[n]['weight']!=None):\n",
        "            # print(\"HERE IT IS\")\n",
        "            g.nodes[n]['weight'] = g.nodes[n]['weight'].replace(s,\"\")\n",
        "        if(g.nodes[n]['cluster']!=None):\n",
        "            g.nodes[n]['cluster'] = g.nodes[n]['cluster'].replace(s,\"\")\n",
        "    for e in g.edges():\n",
        "        if(g.edges[e]['weight']!=None):\n",
        "            g.edges[e]['weight']=g.edges[e]['weight'].replace(s,\"\")\n",
        "    "
      ],
      "execution_count": 44,
      "outputs": []
    },
    {
      "cell_type": "code",
      "metadata": {
        "id": "K4qoEMFeccPj"
      },
      "source": [
        "def nx_to_com_csr(g,basezero=False):\n",
        "    \n",
        "\n",
        "    row = []\n",
        "    col = []\n",
        "    data = []\n",
        "    N = 0\n",
        "    M = 0\n",
        "    for n in g.nodes:\n",
        "        # print(g.nodes[n]['cluster'])\n",
        "        for c in g.nodes[n]['cluster'].split(','):\n",
        "            # print(c)\n",
        "            if (basezero):\n",
        "                row.append(int(n)-1)\n",
        "                col.append(int(c)-1)\n",
        "            else:\n",
        "                row.append(int(n))\n",
        "                col.append(int(c))\n",
        "            data.append(1)\n",
        "            M = max(M, int(c))\n",
        "            N = max(N, int(n))\n",
        "\n",
        "    if(basezero==False):\n",
        "        M += 1   \n",
        "        N += 1\n",
        "\n",
        "    Z = sp.csr_matrix((data,(row,col)), shape = (N, M), dtype=np.int8)\n",
        "\n",
        "    return Z\n",
        "\n",
        "# print(nx_to_csr(g).toarray())\n"
      ],
      "execution_count": 45,
      "outputs": []
    },
    {
      "cell_type": "code",
      "metadata": {
        "id": "H-sfwj2zd9in"
      },
      "source": [
        "def dot_to_nx(fpath,f=None):\n",
        "    g = nx.Graph(nx.drawing.nx_pydot.read_dot(fpath))\n",
        "    if(f is not None):\n",
        "        f(g)\n",
        "    \n",
        "    return g\n"
      ],
      "execution_count": 46,
      "outputs": []
    },
    {
      "cell_type": "code",
      "metadata": {
        "id": "PStb7sXBtNtj"
      },
      "source": [
        "def nx_to_dot_with_cluster_label(g, Z, path):  \n",
        "    # Z is in csr format\n",
        "    Z = Z.toarray().astype(np.int8)\n",
        "    for n in g.nodes:\n",
        "        label='\"'\n",
        "        row = Z[int(n), : ]\n",
        "\n",
        "        for i in range(len(row)):\n",
        "            if(row[i]==1): \n",
        "                if(len(label)>1):\n",
        "                    label=label+','\n",
        "\n",
        "                label = label + str(i)\n",
        "        \n",
        "        label=label+'\"'\n",
        "\n",
        "        g.nodes[n]['cluster'] = label\n",
        "\n",
        "    nx.drawing.nx_pydot.write_dot(g,path)\n",
        "    \n",
        "\n",
        "\n"
      ],
      "execution_count": 47,
      "outputs": []
    },
    {
      "cell_type": "code",
      "metadata": {
        "id": "phire7j-_LT_",
        "outputId": "61a5a95b-b578-43ab-fa68-5781ef7619cf",
        "colab": {
          "base_uri": "https://localhost:8080/",
          "height": 35
        }
      },
      "source": [
        "file_name= input(\"Provide the name of your file: \")"
      ],
      "execution_count": 48,
      "outputs": [
        {
          "output_type": "stream",
          "text": [
            "Provide the name of your file: simple_cluster.dot\n"
          ],
          "name": "stdout"
        }
      ]
    },
    {
      "cell_type": "code",
      "metadata": {
        "id": "GuD3wdtOHWNo"
      },
      "source": [
        "\n",
        "\n",
        "\n",
        "__all__ = [\n",
        "    'evaluate_unsupervised',\n",
        "    'clustering_coef',\n",
        "    'coverage',\n",
        "    'density',\n",
        "    'conductance',\n",
        "]\n",
        "\n",
        "\n",
        "def evaluate_unsupervised(Z_pred, adj):\n",
        "    return {'coverage': coverage(Z_pred, adj),\n",
        "            'density': density(Z_pred, adj),\n",
        "            'conductance': conductance(Z_pred, adj),\n",
        "            'clustering_coef': clustering_coef(Z_pred, adj)}\n",
        "\n",
        "\n",
        "def clustering_coef(Z_pred, adj):\n",
        "    \"\"\"Compute weighted average of clustering coefficients of communities.\"\"\"\n",
        "    def clustering_coef_community(ind, adj):\n",
        "        \"\"\"Compute clustering coefficient of a single community.\"\"\"\n",
        "        adj_com = adj[ind][:, ind]\n",
        "        n = ind.sum()\n",
        "        if n < 3:\n",
        "            return 0\n",
        "        # Number of possible triangles\n",
        "        possible = (n - 2) * (n - 1) * n / 6\n",
        "        # Number of existing triangles\n",
        "        existing = (adj_com @ adj_com @ adj_com).diagonal().sum() / 6\n",
        "        return existing / possible\n",
        "\n",
        "    Z_pred = Z_pred.astype(bool)\n",
        "    com_sizes = Z_pred.sum(0)\n",
        "    clust_coefs = np.array([clustering_coef_community(Z_pred[:, c], adj) for c in range(Z_pred.shape[1])])\n",
        "    return clust_coefs @ com_sizes / com_sizes.sum()\n",
        "\n",
        "\n",
        "def coverage(Z_pred, adj):\n",
        "    \"\"\"What fraction of edges are explained by at least 1 community?\n",
        "\n",
        "    Args:\n",
        "        Z_pred: Binary community affiliation matrix\n",
        "        adj : Unweighted symmetric adjacency matrix of a graph.\n",
        "    \"\"\"\n",
        "    u, v = adj.nonzero()\n",
        "    # print(\"u: \",u.shape)\n",
        "    # print(\"v: \",v.shape)\n",
        "    # print(\"Z_pred[u]: \",Z_pred[u].shape)\n",
        "    # print(\"Z_pred[v]: \",Z_pred[v].shape)\n",
        "    a = Z_pred[u] * Z_pred[v]\n",
        "    return ((a).sum(1) > 0).sum() / adj.nnz\n",
        "\n",
        "\n",
        "def density(Z_pred, adj):\n",
        "    \"\"\"Average density of communities (weighted by size).\n",
        "\n",
        "    Higher is better.\n",
        "\n",
        "        (\\sum_i density(C_i) * |C_i|) / (\\sum_j |C_j|)\n",
        "\n",
        "    Args:\n",
        "        Z_pred: Binary community affiliation matrix\n",
        "        adj : Unweighted symmetric adjacency matrix of a graph.\n",
        "    \"\"\"\n",
        "    def density_community(ind, adj):\n",
        "        ind = ind.astype(bool)\n",
        "        n = ind.sum()\n",
        "        if n  < 2:\n",
        "            return 0.0\n",
        "        else:\n",
        "            return adj[ind][:, ind].nnz / (n**2 - n)\n",
        "    Z_pred = Z_pred.astype(bool)\n",
        "    com_sizes = Z_pred.sum(0) / Z_pred.sum()\n",
        "    densities = np.array([density_community(Z_pred[:, c], adj) for c in range(Z_pred.shape[1])])\n",
        "    return densities @ com_sizes\n",
        "\n",
        "\n",
        "def conductance(Z_pred, adj):\n",
        "    \"\"\"Compute weight average of conductances of communities.\n",
        "\n",
        "    Conductance of each community is weighted by its size.\n",
        "\n",
        "        (\\sum_i conductance(C_i) * |C_i|) / (\\sum_j |C_j|)\n",
        "\n",
        "    Args:\n",
        "        Z_pred: Binary community affiliation matrix\n",
        "        adj : Unweighted symmetric adjacency matrix of a graph.\n",
        "    \"\"\"\n",
        "    def conductance_community(ind, adj):\n",
        "        \"\"\"Compute conductance of a single community.\n",
        "\n",
        "        Args:\n",
        "            ind: Binary indicator vector for the community.\n",
        "            adj: Adjacency matrix in scipy.sparse format.\n",
        "        \"\"\"\n",
        "        ind = ind.astype(bool)\n",
        "        inside = adj[ind, :][:, ind].nnz\n",
        "        outside = adj[~ind, :][:, ind].nnz\n",
        "        if inside + outside == 0:\n",
        "            return 1\n",
        "        return outside / (inside + outside)\n",
        "\n",
        "    Z_pred = Z_pred.astype(bool)\n",
        "    com_sizes = Z_pred.sum(0)\n",
        "    conductances = np.array([conductance_community(Z_pred[:, c], adj) for c in range(Z_pred.shape[1])])\n",
        "    return conductances @ com_sizes / com_sizes.sum()\n"
      ],
      "execution_count": 53,
      "outputs": []
    },
    {
      "cell_type": "code",
      "metadata": {
        "id": "tr0j8yBskpTJ",
        "outputId": "ffb883ca-46e5-4bef-8c20-dfeb55056aa2",
        "colab": {
          "base_uri": "https://localhost:8080/",
          "height": 337
        }
      },
      "source": [
        "\n",
        "adj, _, g = load_dataset_dot(file_name)\n",
        "eliminate_symbol(g)\n",
        "\n",
        "Z = nx_to_com_csr(g,basezero=True)\n",
        "# adj = nx.to_scipy_sparse_matrix(g)\n",
        "# print(\"adj: \\n\",adj.toarray())\n",
        "# print(\"Z:   \\n\", Z.toarray())\n",
        "metric= evaluate_unsupervised(Z.toarray(),adj)\n",
        "print(metric)"
      ],
      "execution_count": 54,
      "outputs": [
        {
          "output_type": "stream",
          "text": [
            "{'coverage': 1.0, 'density': 0.5185185185185185, 'conductance': 0.4582010582010583, 'clustering_coef': 0.0}\n"
          ],
          "name": "stdout"
        },
        {
          "output_type": "display_data",
          "data": {
            "image/png": "[encoded data removed]",
            "text/plain": [
              "<Figure size 432x288 with 1 Axes>"
            ]
          },
          "metadata": {
            "tags": []
          }
        }
      ]
    }
  ]
}